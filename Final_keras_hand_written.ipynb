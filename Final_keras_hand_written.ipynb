{
  "nbformat": 4,
  "nbformat_minor": 0,
  "metadata": {
    "colab": {
      "name": "Final_keras_hand_written.ipynb",
      "provenance": [],
      "mount_file_id": "1EyL1qUzRM1IcGqZQJ1WrEXcwWBdBDdTj",
      "authorship_tag": "ABX9TyPrfS+HV8EeLtr3kgK9sOiP",
      "include_colab_link": true
    },
    "kernelspec": {
      "name": "python3",
      "display_name": "Python 3"
    },
    "accelerator": "GPU"
  },
  "cells": [
    {
      "cell_type": "markdown",
      "metadata": {
        "id": "view-in-github",
        "colab_type": "text"
      },
      "source": [
        "<a href=\"https://colab.research.google.com/github/nevermess/Hand-Written-Digit-Recogniser/blob/master/Final_keras_hand_written.ipynb\" target=\"_parent\"><img src=\"https://colab.research.google.com/assets/colab-badge.svg\" alt=\"Open In Colab\"/></a>"
      ]
    },
    {
      "cell_type": "code",
      "metadata": {
        "id": "cJx3D5o1-LjY",
        "colab_type": "code",
        "colab": {}
      },
      "source": [
        "import numpy as np\n",
        "import matplotlib.pyplot as plt\n",
        "import tensorflow as tf\n",
        "import tensorflow.keras"
      ],
      "execution_count": 0,
      "outputs": []
    },
    {
      "cell_type": "code",
      "metadata": {
        "id": "If-3Dmn5-s7_",
        "colab_type": "code",
        "outputId": "ecc5692e-64ae-4675-ba82-90ff97fbb1ca",
        "colab": {
          "base_uri": "https://localhost:8080/",
          "height": 84
        }
      },
      "source": [
        "from keras.datasets import mnist\n",
        "(X_train,Y_train),(X_test,Y_test)=mnist.load_data()\n",
        "print(X_train.shape,Y_train.shape)"
      ],
      "execution_count": 0,
      "outputs": [
        {
          "output_type": "stream",
          "text": [
            "Using TensorFlow backend.\n"
          ],
          "name": "stderr"
        },
        {
          "output_type": "stream",
          "text": [
            "Downloading data from https://s3.amazonaws.com/img-datasets/mnist.npz\n",
            "11493376/11490434 [==============================] - 2s 0us/step\n",
            "(60000, 28, 28) (60000,)\n"
          ],
          "name": "stdout"
        }
      ]
    },
    {
      "cell_type": "markdown",
      "metadata": {
        "id": "i2oxv47ONyyw",
        "colab_type": "text"
      },
      "source": [
        "Now we need to preprocess our dataset which includes normalizing pixel values by dividing it by 255 and changing the labels into one hot encoding and futhermore I'm using 10,000 data from train set as cross validation set."
      ]
    },
    {
      "cell_type": "code",
      "metadata": {
        "id": "aSrA-0tH_o44",
        "colab_type": "code",
        "outputId": "b3468c9d-abd9-4209-f857-4e06ae3e7d61",
        "colab": {
          "base_uri": "https://localhost:8080/",
          "height": 34
        }
      },
      "source": [
        "X_train=X_train/255.\n",
        "Y_train=tf.keras.utils.to_categorical(Y_train)\n",
        "X_test=X_test/255.\n",
        "x_train=X_train[0:50000]\n",
        "x_cv=X_train[50000:60000]\n",
        "y_train=Y_train[0:50000]\n",
        "y_cv=Y_train[50000:60000]\n",
        "print(x_train.shape,x_cv.shape,y_train.shape,y_cv.shape)"
      ],
      "execution_count": 0,
      "outputs": [
        {
          "output_type": "stream",
          "text": [
            "(50000, 28, 28) (10000, 28, 28) (50000, 10) (10000, 10)\n"
          ],
          "name": "stdout"
        }
      ]
    },
    {
      "cell_type": "markdown",
      "metadata": {
        "id": "2miRwM2wOf5e",
        "colab_type": "text"
      },
      "source": [
        "Now the next code block defines a function show_random() to show some of examples that are in our dataset which will be further used for showing random examples when we predict from our test class."
      ]
    },
    {
      "cell_type": "code",
      "metadata": {
        "id": "rVIe8_tfCVS8",
        "colab_type": "code",
        "outputId": "38da23da-8a8b-49f3-b61d-13f09774b97d",
        "colab": {
          "base_uri": "https://localhost:8080/",
          "height": 289
        }
      },
      "source": [
        "def show_random(x,y,p):\n",
        "  indices=np.random.choice(range(x.shape[0]),10,replace=False)\n",
        "  x=x.reshape(x.shape[0],28,28)\n",
        "  x=x[indices]\n",
        "  y=y[indices]\n",
        "  p=p[indices]\n",
        "  plt.figure(figsize=(10,5))\n",
        "  for i in range(10):\n",
        "    plt.subplot(2,5,1+i)\n",
        "    plt.imshow(x[i],cmap='gray')\n",
        "    plt.xticks([])\n",
        "    plt.yticks([])\n",
        "    col='green'if np.argmax(y[i])==np.argmax(p[i]) else 'red'\n",
        "    plt.xlabel(np.argmax(p[i]),color=col)\n",
        "  plt.show()\n",
        "show_random(x_train,y_train,y_train)"
      ],
      "execution_count": 0,
      "outputs": [
        {
          "output_type": "display_data",
          "data": {
            "image/png": "[encoded data removed]",
            "text/plain": [
              "<Figure size 720x360 with 10 Axes>"
            ]
          },
          "metadata": {
            "tags": []
          }
        }
      ]
    },
    {
      "cell_type": "code",
      "metadata": {
        "id": "M78E6R1uojzr",
        "colab_type": "code",
        "colab": {}
      },
      "source": [
        "x_train=x_train.reshape(50000,28,28,1)\n",
        "x_cv=x_cv.reshape(10000,28,28,1)"
      ],
      "execution_count": 0,
      "outputs": []
    },
    {
      "cell_type": "markdown",
      "metadata": {
        "id": "IJ4LNOyfO-Fw",
        "colab_type": "text"
      },
      "source": [
        "since we are using convolution we need to provide the number of channels which is missing in mnist dataset ,so to combat we reshape the set with the last axis being 1 as it is gray scale image."
      ]
    },
    {
      "cell_type": "code",
      "metadata": {
        "id": "Nn5ersmdi8NE",
        "colab_type": "code",
        "colab": {}
      },
      "source": [
        "from tensorflow.keras.layers import Conv2D,MaxPooling2D,Dropout,Input,BatchNormalization,Flatten,Dense,AveragePooling2D"
      ],
      "execution_count": 0,
      "outputs": []
    },
    {
      "cell_type": "code",
      "metadata": {
        "id": "flAE19umFpXP",
        "colab_type": "code",
        "outputId": "13f821bd-ff76-4291-b92e-a7f629e34e0e",
        "colab": {
          "base_uri": "https://localhost:8080/",
          "height": 655
        }
      },
      "source": [
        "def create_model():\n",
        "  def add_conv_layer(model,filters_count):\n",
        "    model.add(Conv2D(filters_count,kernel_size=3,activation='relu',padding='same'))\n",
        "    model.add(BatchNormalization())\n",
        "    model.add(Conv2D(filters_count,kernel_size=3,activation='relu',padding='valid'))\n",
        "    model.add(MaxPooling2D((3,3),strides=1))\n",
        "    model.add(Dropout(0.5))\n",
        "    return model\n",
        "  def add_bottle_neck_conv(model,filters_count):\n",
        "    model.add(Conv2D(filters_count[0],kernel_size=1,activation='relu'))\n",
        "    model.add(BatchNormalization())\n",
        "    model.add(Conv2D(filters_count[1],kernel_size=3,activation='relu',padding='same'))\n",
        "    model.add(MaxPooling2D(2))\n",
        "    model.add(Dropout(0.4))\n",
        "    return model\n",
        "\n",
        "  def insert_Res(h,w,c,filters,model):\n",
        "    \n",
        "    x_input=Input([h,w,c])\n",
        "    x=x_input\n",
        "    x=Conv2D(filters[0],kernel_size=3,activation='relu',padding='same')(x)\n",
        "    x=BatchNormalization()(x)\n",
        "    x=MaxPooling2D((3,3),padding='same')(x)\n",
        "    x_short=x\n",
        "    x=Conv2D(filters[0],kernel_size=3,activation='relu',padding='same')(x)\n",
        "    x=BatchNormalization()(x)\n",
        "    #x=AveragePooling2D((3,3),padding='same')(x)\n",
        "    x=x+x_short  \n",
        "    x=Conv2D(filters[1],(3,3),activation='relu')(x)\n",
        "    x=BatchNormalization()(x)\n",
        "    x=(MaxPooling2D((3,3),padding='same')(x))\n",
        "    submodel=tf.keras.Model(inputs=x_input,outputs=x,name='submodel')\n",
        "    model.add(submodel)\n",
        "    return model\n",
        "\n",
        "  def add_inception_layer(h,w,c,filters,model):\n",
        "    x_input=Input([h,w,c])\n",
        "    x=x_input\n",
        "    x=Conv2D(filters[0],kernel_size=(1,1),activation='relu')(x)\n",
        "    x1=MaxPooling2D((3,3),padding='same')(x)\n",
        "    x2=Conv2D(filters[1],kernel_size=(3,3),activation='relu',padding='same')(x)\n",
        "    x2=MaxPooling2D((3,3),padding='same')(x2)\n",
        "    x3=Conv2D(filters[2],kernel_size=(5,5),activation='relu',padding='same')(x)\n",
        "    x3=MaxPooling2D((3,3),padding='same')(x3)\n",
        "    x=tf.keras.layers.concatenate([x1,x2,x3],axis=3)\n",
        "    submodel=tf.keras.Model(inputs=x_input,outputs=x,name='submodel'+str(np.random.randint(10)))\n",
        "    model.add(submodel)\n",
        "    return model\n",
        "\n",
        "  model=tf.keras.models.Sequential()\n",
        "  model.add(Input(shape=(28,28,1)))\n",
        "  #a=np.array([4,16,10])\n",
        "  #model=add_inception_layer(28,28,1,a,model)\n",
        "  model=add_conv_layer(model,16)\n",
        "  a=np.array([8,64])\n",
        "  model=add_bottle_neck_conv(model,a)\n",
        "  a=np.array([128,256])              #\n",
        "  model=insert_Res(12,12,64,a,model) #\n",
        "  #model=add_conv_layer(model,128)\n",
        "  model.add(Flatten())\n",
        "  model.add(Dense(128,activation='relu'))\n",
        "  model.add(Dropout(0.4))\n",
        "  model.add(Dense(10,activation='softmax'))\n",
        "  model.compile(loss='categorical_crossentropy',optimizer='adam',metrics=['accuracy'])\n",
        "  return model\n",
        "\n",
        "model=create_model()\n",
        "model.summary()  \n"
      ],
      "execution_count": 0,
      "outputs": [
        {
          "output_type": "stream",
          "text": [
            "Model: \"sequential\"\n",
            "_________________________________________________________________\n",
            "Layer (type)                 Output Shape              Param #   \n",
            "=================================================================\n",
            "conv2d (Conv2D)              (None, 28, 28, 16)        160       \n",
            "_________________________________________________________________\n",
            "batch_normalization (BatchNo (None, 28, 28, 16)        64        \n",
            "_________________________________________________________________\n",
            "conv2d_1 (Conv2D)            (None, 26, 26, 16)        2320      \n",
            "_________________________________________________________________\n",
            "max_pooling2d (MaxPooling2D) (None, 24, 24, 16)        0         \n",
            "_________________________________________________________________\n",
            "dropout (Dropout)            (None, 24, 24, 16)        0         \n",
            "_________________________________________________________________\n",
            "conv2d_2 (Conv2D)            (None, 24, 24, 8)         136       \n",
            "_________________________________________________________________\n",
            "batch_normalization_1 (Batch (None, 24, 24, 8)         32        \n",
            "_________________________________________________________________\n",
            "conv2d_3 (Conv2D)            (None, 24, 24, 64)        4672      \n",
            "_________________________________________________________________\n",
            "max_pooling2d_1 (MaxPooling2 (None, 12, 12, 64)        0         \n",
            "_________________________________________________________________\n",
            "dropout_1 (Dropout)          (None, 12, 12, 64)        0         \n",
            "_________________________________________________________________\n",
            "submodel (Model)             (None, 1, 1, 256)         518656    \n",
            "_________________________________________________________________\n",
            "flatten (Flatten)            (None, 256)               0         \n",
            "_________________________________________________________________\n",
            "dense (Dense)                (None, 128)               32896     \n",
            "_________________________________________________________________\n",
            "dropout_2 (Dropout)          (None, 128)               0         \n",
            "_________________________________________________________________\n",
            "dense_1 (Dense)              (None, 10)                1290      \n",
            "=================================================================\n",
            "Total params: 560,226\n",
            "Trainable params: 559,154\n",
            "Non-trainable params: 1,072\n",
            "_________________________________________________________________\n"
          ],
          "name": "stdout"
        }
      ]
    },
    {
      "cell_type": "code",
      "metadata": {
        "id": "3vZqVoeSkgg8",
        "colab_type": "code",
        "outputId": "6d37c42a-f748-4e3b-bdfc-3d3ffab9d422",
        "colab": {
          "base_uri": "https://localhost:8080/",
          "height": 353
        }
      },
      "source": [
        "h=model.fit(x_train,y_train,validation_data=(x_cv,y_cv),epochs=10,batch_size=64)"
      ],
      "execution_count": 0,
      "outputs": [
        {
          "output_type": "stream",
          "text": [
            "Epoch 1/10\n",
            "782/782 [==============================] - 21s 26ms/step - loss: 0.3793 - accuracy: 0.8861 - val_loss: 0.5604 - val_accuracy: 0.8604\n",
            "Epoch 2/10\n",
            "782/782 [==============================] - 20s 26ms/step - loss: 0.1244 - accuracy: 0.9640 - val_loss: 0.1655 - val_accuracy: 0.9560\n",
            "Epoch 3/10\n",
            "782/782 [==============================] - 20s 25ms/step - loss: 0.0979 - accuracy: 0.9722 - val_loss: 0.1174 - val_accuracy: 0.9750\n",
            "Epoch 4/10\n",
            "782/782 [==============================] - 20s 25ms/step - loss: 0.0810 - accuracy: 0.9771 - val_loss: 0.0610 - val_accuracy: 0.9851\n",
            "Epoch 5/10\n",
            "782/782 [==============================] - 20s 25ms/step - loss: 0.0723 - accuracy: 0.9795 - val_loss: 0.0726 - val_accuracy: 0.9827\n",
            "Epoch 6/10\n",
            "782/782 [==============================] - 20s 25ms/step - loss: 0.0621 - accuracy: 0.9825 - val_loss: 0.0907 - val_accuracy: 0.9778\n",
            "Epoch 7/10\n",
            "782/782 [==============================] - 20s 26ms/step - loss: 0.0573 - accuracy: 0.9832 - val_loss: 0.0554 - val_accuracy: 0.9882\n",
            "Epoch 8/10\n",
            "782/782 [==============================] - 20s 26ms/step - loss: 0.0534 - accuracy: 0.9845 - val_loss: 0.0536 - val_accuracy: 0.9873\n",
            "Epoch 9/10\n",
            "782/782 [==============================] - 20s 26ms/step - loss: 0.0457 - accuracy: 0.9864 - val_loss: 0.0622 - val_accuracy: 0.9865\n",
            "Epoch 10/10\n",
            "782/782 [==============================] - 20s 26ms/step - loss: 0.0449 - accuracy: 0.9873 - val_loss: 0.0424 - val_accuracy: 0.9889\n"
          ],
          "name": "stdout"
        }
      ]
    },
    {
      "cell_type": "code",
      "metadata": {
        "id": "zJs4Ltppvr6P",
        "colab_type": "code",
        "outputId": "4c86b970-af4d-4c07-e98c-19830c1944c3",
        "colab": {
          "base_uri": "https://localhost:8080/",
          "height": 265
        }
      },
      "source": [
        "accs=h.history['accuracy']\n",
        "val_accs=h.history['val_accuracy']\n",
        "plt.plot(range(len(accs)),accs,label='Training')\n",
        "plt.plot(range(len(val_accs)),val_accs,label='Validation')\n",
        "plt.legend()\n",
        "plt.show()"
      ],
      "execution_count": 0,
      "outputs": [
        {
          "output_type": "display_data",
          "data": {
            "image/png": "[encoded data removed]",
            "text/plain": [
              "<Figure size 432x288 with 1 Axes>"
            ]
          },
          "metadata": {
            "tags": [],
            "needs_background": "light"
          }
        }
      ]
    },
    {
      "cell_type": "code",
      "metadata": {
        "id": "cQ80liIdwoHQ",
        "colab_type": "code",
        "colab": {}
      },
      "source": [
        "model.save('/content/drive/My Drive/Colab Notebooks/model2.h5')"
      ],
      "execution_count": 0,
      "outputs": []
    },
    {
      "cell_type": "code",
      "metadata": {
        "id": "cpmljpkpx_dR",
        "colab_type": "code",
        "colab": {}
      },
      "source": [
        "pred=model.predict(X_test.reshape(10000,28,28,1))\n",
        "Y_test=tf.keras.utils.to_categorical(Y_test)"
      ],
      "execution_count": 0,
      "outputs": []
    },
    {
      "cell_type": "code",
      "metadata": {
        "id": "Dz0LJ0DOw8n9",
        "colab_type": "code",
        "outputId": "a79fe386-adef-4506-a3d7-568fd081c13c",
        "colab": {
          "base_uri": "https://localhost:8080/",
          "height": 289
        }
      },
      "source": [
        "show_random(X_test,Y_test,pred)"
      ],
      "execution_count": 0,
      "outputs": [
        {
          "output_type": "display_data",
          "data": {
            "image/png": "[encoded data removed]",
            "text/plain": [
              "<Figure size 720x360 with 10 Axes>"
            ]
          },
          "metadata": {
            "tags": []
          }
        }
      ]
    }
  ]
}